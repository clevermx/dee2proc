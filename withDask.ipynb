{
 "cells": [
  {
   "cell_type": "code",
   "execution_count": 2,
   "metadata": {},
   "outputs": [
    {
     "name": "stdout",
     "output_type": "stream",
     "text": [
      "4322\n",
      "4322\n",
      "4322\n",
      "7024\n",
      "3596\n",
      "Wall time: 382 ms\n"
     ]
    }
   ],
   "source": [
    "%%time\n",
    "import bz2\n",
    "import h5py\n",
    "import numpy as np\n",
    "import pandas as pd\n",
    "import scipy.sparse as sps\n",
    "from scipy.sparse import csr_matrix\n",
    "import math\n",
    "cache_dir=\"G:/datasets/DEE2/\"\n",
    "cache_dir=\"F:/test_data/DEE2/\"\n",
    "organism_name= 'ecoli'#'hsapiens' 'ecoli' mmusculus\n",
    "geo_acc_name = 'GSE_accession' # may be \"GSE_accession\" or \"Sample_name\"\n",
    "tx_info_file = cache_dir+\"TxInfo/\"+ organism_name+\"_TxInfo.tsv\"\n",
    "metadata_file = cache_dir+\"metadata/\"+ organism_name+\"_metadata.tsv\"\n",
    "\n",
    "tx_info=pd.read_csv(filepath_or_buffer=tx_info_file,sep=\"\\t\")\n",
    "tx_to_gene= dict(zip(tx_info[\"TxID\"],tx_info[\"GeneID\"]))\n",
    "tx_ind= {tx:ind for ind,tx in enumerate(tx_to_gene.keys())}\n",
    "gene_ind= {gene:ind for ind,gene in enumerate(pd.unique(tx_info[\"GeneID\"]))}\n",
    "tx_to_gene_matrix= sps.lil_matrix((len(tx_ind),len(gene_ind)))\n",
    "for tx_key in tx_to_gene:\n",
    "    tx_to_gene_matrix[tx_ind[tx_key],gene_ind[tx_to_gene[tx_key]]]=1\n",
    "print(len(gene_ind))\n",
    "print(len(tx_ind))\n",
    "print(len(tx_to_gene))\n",
    "#meta_df=pd.read_csv(filepath_or_buffer=metadata_file,sep=\"\\t\")   \n",
    "iter_meta = pd.read_csv(filepath_or_buffer=metadata_file,sep=\"\\t\", iterator=True, chunksize=1000)\n",
    "\n",
    "#meta_df = pd.concat([chunk[chunk[geo_acc_name].str.startswith('GSM')] for chunk in iter_meta])\n",
    "meta_df = pd.concat([chunk for chunk in iter_meta])\n",
    "true_srr=len(meta_df)\n",
    "print(true_srr)\n",
    "meta_df=meta_df[meta_df[geo_acc_name].str.startswith('GSM')]\n",
    "n_srr= len(meta_df)\n",
    "print(n_srr)\n",
    "srr_to_gsm= dict(zip(meta_df[\"SRR_accession\"],meta_df[geo_acc_name]))\n",
    "srr_ind= {srr:ind for ind,srr in enumerate(srr_to_gsm.keys())}\n",
    "gsm_ind= {gsm:ind for ind,gsm in enumerate(pd.unique(meta_df[geo_acc_name]))}\n",
    "gsm_from_srr_matrix= sps.lil_matrix((len(gsm_ind),len(srr_ind)))\n",
    "for srr_key in srr_to_gsm:\n",
    "    gsm_from_srr_matrix[gsm_ind[srr_to_gsm[srr_key]],srr_ind[srr_key]]=1\n"
   ]
  },
  {
   "cell_type": "code",
   "execution_count": 8,
   "metadata": {},
   "outputs": [
    {
     "name": "stdout",
     "output_type": "stream",
     "text": [
      "start h5\n",
      "4322\n",
      "1\n",
      "Wall time: 25.8 s\n"
     ]
    }
   ],
   "source": [
    "%%time\n",
    "import datetime\n",
    "import dask.dataframe as dd\n",
    "from scipy.sparse import isspmatrix_csr,csr_matrix,csc_matrix,issparse,isspmatrix_csr\n",
    "data_file_name= cache_dir+\"raw_files/\"+organism_name+\"_ke.tsv.bz2\"\n",
    "#data_file_name=\"F://mmusculus_ke.tsv.bz2\"\n",
    "h5_gsm_name = cache_dir+organism_name+ \"_kalisto_matrix.h5\"\n",
    "now = datetime.datetime.now()\n",
    "print(\"start h5\")\n",
    "with h5py.File(h5_gsm_name, 'w') as h5_gse:\n",
    "    meta_grp = h5_gse.create_group('meta')\n",
    "    info_grp = h5_gse.create_group('info')\n",
    "    data_grp= h5_gse.create_group('data')\n",
    "    info_grp.create_dataset('version', data=\"dee2_gse_v1\")\n",
    "    info_grp.create_dataset('creation_date', data=now.strftime(\"%Y.%m.%d\"))\n",
    "    n_genes =len(gene_ind)\n",
    "    dt = h5py.special_dtype(vlen=np.str)\n",
    "    meta_grp.create_dataset('genes',data=gene_ind.keys(),dtype=dt)\n",
    "    n_gsm=len(gsm_ind)        \n",
    "    meta_grp.create_dataset('Sample_geo_accession',data=gsm_ind.keys(), dtype =dt)\n",
    "    meta_grp.create_dataset('Sample_instrument_model',(n_gsm,), dtype =dt)\n",
    "    meta_grp.create_dataset('Sample_last_update_date',(n_gsm,), dtype =dt)\n",
    "    meta_grp.create_dataset('Sample_library_selection',(n_gsm,), dtype =dt)\n",
    "    meta_grp.create_dataset('Sample_library_source',(n_gsm,), dtype =dt)\n",
    "    meta_grp.create_dataset('Sample_library_strategy',(n_gsm,), dtype =dt)\n",
    "    meta_grp.create_dataset('Sample_organism_ch1',(n_gsm,),dtype =dt)\n",
    "    meta_grp.create_dataset('Sample_series_id',(n_gsm,), dtype =dt)\n",
    "    meta_grp.create_dataset('Sample_status',(n_gsm,), dtype =dt)\n",
    "    meta_grp.create_dataset('Sample_submission_date',(n_gsm,), dtype =dt)\n",
    "    meta_grp.create_dataset('Sample_taxid_ch1',(n_gsm,), dtype =dt)\n",
    "    meta_grp.create_dataset('Sample_quality',(n_gsm,), dtype =dt)\n",
    "    meta_grp.create_dataset('Sample_title',(n_gsm,), dtype =dt)\n",
    "    meta_grp.create_dataset('Sample_type',data=np.full(n_gsm,\"SRA\", dtype =dt))\n",
    "    exp_data=data_grp.create_dataset(\"expression\", (n_gsm,n_genes),dtype= 'i4')#, compression=\"gzip\", compression_opts=9)\n",
    "    import dask.array as da\n",
    "    dask_exp = da.from_array(exp_data, chunks=(1000,1000))\n",
    "    processed_gse=0\n",
    "    srr_per_time=1000\n",
    "    row_length= len(tx_ind)\n",
    "    print(row_length)\n",
    "    df_data = pd.read_csv(filepath_or_buffer=data_file_name,sep=\"\\t\", names=[\"srr\",\"tx\",\"ke\"])\n",
    "    df_data\n",
    "print(1)"
   ]
  }
 ],
 "metadata": {
  "kernelspec": {
   "display_name": "Python 3",
   "language": "python",
   "name": "python3"
  },
  "language_info": {
   "codemirror_mode": {
    "name": "ipython",
    "version": 3
   },
   "file_extension": ".py",
   "mimetype": "text/x-python",
   "name": "python",
   "nbconvert_exporter": "python",
   "pygments_lexer": "ipython3",
   "version": "3.7.6"
  }
 },
 "nbformat": 4,
 "nbformat_minor": 4
}
